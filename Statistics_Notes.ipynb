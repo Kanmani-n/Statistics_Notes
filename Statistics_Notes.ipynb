{
 "cells": [
  {
   "cell_type": "markdown",
   "id": "081a739d-6626-4ee4-9d33-4566e03ed140",
   "metadata": {},
   "source": [
    "# STATISTICS"
   ]
  },
  {
   "cell_type": "markdown",
   "id": "86d50d12-4bfb-4183-a536-3aaaab4daafe",
   "metadata": {},
   "source": [
    "Statistics helps us to collect, organize, analyze and interpret data to find patterns."
   ]
  },
  {
   "cell_type": "markdown",
   "id": "87a54adc-036b-45cf-a824-074bd7a84004",
   "metadata": {},
   "source": [
    "Types of Statistics "
   ]
  },
  {
   "cell_type": "markdown",
   "id": "0089d160-9de5-43af-9f3d-a0224e444444",
   "metadata": {},
   "source": [
    " 1. Descriptive Statistics\n",
    " 2. Inferential Statistics"
   ]
  },
  {
   "cell_type": "markdown",
   "id": "46a2e09f-3d5e-4008-9815-a617c46cfb85",
   "metadata": {},
   "source": [
    "Descriptive Statistics simplify and organise big datas which helps us to understand easily"
   ]
  },
  {
   "cell_type": "markdown",
   "id": "584c1cdf-b0e7-4e82-a340-87998b1c2d56",
   "metadata": {},
   "source": [
    "Inferential Statistics uses small datas to conclude a large group"
   ]
  },
  {
   "cell_type": "markdown",
   "id": "02b192ce-87b0-4161-bb48-58a31d11f941",
   "metadata": {},
   "source": [
    "# Types of Analytics:"
   ]
  },
  {
   "cell_type": "markdown",
   "id": "763c6c93-087b-4e7a-a474-9e0ee91d51d0",
   "metadata": {},
   "source": [
    "Predictive Analysis: It tells the future outcomes based on historical data.\n",
    "                     It helps us to understand what will happen next."
   ]
  },
  {
   "cell_type": "markdown",
   "id": "0b724702-2429-4abe-9f27-95da7f2f8cc6",
   "metadata": {},
   "source": [
    "Prescriptive Analysis: It recommends us the specific action to achieve the outcomes based on predictions"
   ]
  },
  {
   "cell_type": "markdown",
   "id": "e08770e5-cfa7-4feb-a70e-8b42227d32a7",
   "metadata": {},
   "source": [
    "Population: It refers to the entire group of individuals or items that you want to draw conclusion.\n",
    "sample: it is a subset of that population selected for analysis .\n",
    "The sample size is always less than the total size of the population. "
   ]
  },
  {
   "cell_type": "markdown",
   "id": "2e99053b-4797-4bc6-972a-2a47892e8848",
   "metadata": {},
   "source": [
    "Types of DATA\n",
    "\n",
    "# Numerical (Quantitative Analysis)\n",
    "\n",
    "  1.Discrete (finite options)- Eg: Students in a class, Shoe size\n",
    "  \n",
    "  2.Continous(Infinite Options)- Eg: Age , Weight , Blood Pressure\n",
    "\n",
    "# Categorical (Qualitative Analysis)\n",
    "\n",
    "  1.Nominal (Data has no hierarchy) - Eg: Eye color , Blood Types \n",
    "  \n",
    "  2.Ordinal (Data with hierarchy or order) - Eg: Grades , Rating Scale\n"
   ]
  },
  {
   "cell_type": "markdown",
   "id": "4dc5314f-fe5c-47ec-9e9b-95d71d3166b3",
   "metadata": {},
   "source": [
    "Descriptive Statistics: \n",
    "1.Numerical Measures :\n",
    "\n",
    "                     a.) Measure of central Tendency\n",
    "                    \n",
    "                    b.)Measure of Symmetry/ shapes \n",
    "                    \n",
    "                    c.)Measure of dispersion/ Spreads\n",
    "\n"
   ]
  },
  {
   "cell_type": "markdown",
   "id": "e7395f8d-bcb0-4588-a8b1-e0dc841aa23f",
   "metadata": {},
   "source": [
    "a.) Measure of central Tendency : Summarize and describe the central or average value around the data .Mean , Median Mode"
   ]
  },
  {
   "cell_type": "code",
   "execution_count": 14,
   "id": "6c600167-248c-4313-aba3-a069f486f508",
   "metadata": {},
   "outputs": [],
   "source": [
    "import numpy as np\n",
    "import pandas as pd\n",
    "import matplotlib.pyplot as plt\n",
    "import seaborn as sns"
   ]
  },
  {
   "cell_type": "markdown",
   "id": "3c16f4ba-d6a5-4f72-9072-0125cdeb2f48",
   "metadata": {},
   "source": [
    "Mean : Average value , which is most commonly used to measure the Central tendency"
   ]
  },
  {
   "cell_type": "code",
   "execution_count": 3,
   "id": "8c466ae9-1fe9-4631-b28f-f832a38ece39",
   "metadata": {},
   "outputs": [],
   "source": [
    "data = [45, 55, 60, 65, 70, 75, 80, 85, 90, 95]"
   ]
  },
  {
   "cell_type": "code",
   "execution_count": 4,
   "id": "56b7823d-c732-4dbd-9ff8-1745f0c2b3d6",
   "metadata": {},
   "outputs": [],
   "source": [
    "mean=sum(data)/len(data)"
   ]
  },
  {
   "cell_type": "code",
   "execution_count": 5,
   "id": "16f840aa-9110-4fd1-a548-8f0fbff47552",
   "metadata": {},
   "outputs": [
    {
     "data": {
      "text/plain": [
       "72.0"
      ]
     },
     "execution_count": 5,
     "metadata": {},
     "output_type": "execute_result"
    }
   ],
   "source": [
    "mean"
   ]
  },
  {
   "cell_type": "markdown",
   "id": "8903b4ad-dfb3-4218-be6a-a69e2e77cea7",
   "metadata": {},
   "source": [
    "Median : Median of a smaple is the middle value when the data are arranged in ascending or descending order."
   ]
  },
  {
   "cell_type": "code",
   "execution_count": 31,
   "id": "9721ace8-2ad4-4eae-af8c-6cc9ba4983fd",
   "metadata": {},
   "outputs": [
    {
     "data": {
      "text/plain": [
       "np.float64(72.5)"
      ]
     },
     "execution_count": 31,
     "metadata": {},
     "output_type": "execute_result"
    }
   ],
   "source": [
    "median=pd.Series(data).median()\n",
    "median"
   ]
  },
  {
   "cell_type": "markdown",
   "id": "7a97a5ec-b91d-40ab-92d0-dc2a2e22a69d",
   "metadata": {},
   "source": [
    "Mode : The Mode is the value that occurs most frequently.Represents the highest peak of distribution"
   ]
  },
  {
   "cell_type": "markdown",
   "id": "374e751d-7752-4226-aef1-2073ae7edc00",
   "metadata": {},
   "source": [
    "2.Measure of spread /Depression\n",
    "\n",
    "1.Standard Deviation \n",
    "  measure of how on average the observations are from the mean.Sum of Square Deviations.It is also square root of variance.    "
   ]
  },
  {
   "cell_type": "code",
   "execution_count": 51,
   "id": "684dc384-d1e9-4a61-8778-6351f3d92b4d",
   "metadata": {},
   "outputs": [
    {
     "data": {
      "text/plain": [
       "np.float64(16.020819787597222)"
      ]
     },
     "execution_count": 51,
     "metadata": {},
     "output_type": "execute_result"
    }
   ],
   "source": [
    "std=pd.Series(data).std()\n",
    "std"
   ]
  },
  {
   "cell_type": "markdown",
   "id": "251c8f99-0531-4f77-8c62-59cac4e64cbd",
   "metadata": {},
   "source": [
    "2.Variance is a total value divided by (n-1)."
   ]
  },
  {
   "cell_type": "code",
   "execution_count": 32,
   "id": "b2874de6-9324-449b-8b95-00d0b65a0d84",
   "metadata": {},
   "outputs": [],
   "source": [
    "import numpy as np"
   ]
  },
  {
   "cell_type": "code",
   "execution_count": 33,
   "id": "a6fa9135-ef04-4ef2-bf4c-8c94759b1f8a",
   "metadata": {},
   "outputs": [],
   "source": [
    "data = [45, 55, 60, 65, 70, 75, 80, 85, 90, 95]"
   ]
  },
  {
   "cell_type": "code",
   "execution_count": 34,
   "id": "0e437ea5-d6ae-4ff2-8759-2868cba6d9a0",
   "metadata": {},
   "outputs": [],
   "source": [
    "#sample variance ddof = delta degree of freedom\n",
    "sv=np.var(data,ddof=2)"
   ]
  },
  {
   "cell_type": "code",
   "execution_count": 35,
   "id": "6c128d2f-e0ad-44fe-8a72-66a14b68b513",
   "metadata": {},
   "outputs": [
    {
     "data": {
      "text/plain": [
       "np.float64(288.75)"
      ]
     },
     "execution_count": 35,
     "metadata": {},
     "output_type": "execute_result"
    }
   ],
   "source": [
    "sv"
   ]
  },
  {
   "cell_type": "code",
   "execution_count": 36,
   "id": "25ca5966-5f95-4508-9dc2-fd3ef810fa2d",
   "metadata": {},
   "outputs": [],
   "source": [
    "#entire data variance\n",
    "sv1=np.var(data)"
   ]
  },
  {
   "cell_type": "code",
   "execution_count": 37,
   "id": "626e0f85-6526-489b-9bb8-6659f9d7bd43",
   "metadata": {},
   "outputs": [
    {
     "data": {
      "text/plain": [
       "np.float64(231.0)"
      ]
     },
     "execution_count": 37,
     "metadata": {},
     "output_type": "execute_result"
    }
   ],
   "source": [
    "sv1"
   ]
  },
  {
   "cell_type": "markdown",
   "id": "9edf91b0-81f9-489b-a5f3-8ec904e96cae",
   "metadata": {},
   "source": [
    "Range : Difference between the largest and smallest observations in the data set."
   ]
  },
  {
   "cell_type": "code",
   "execution_count": 38,
   "id": "d1a267c0-244e-48b7-ab89-4009b1c7f431",
   "metadata": {},
   "outputs": [],
   "source": [
    "r=max(data)-min(data)"
   ]
  },
  {
   "cell_type": "code",
   "execution_count": 39,
   "id": "70b97fc4-9cb9-42e6-b8bc-71b00b1cd861",
   "metadata": {},
   "outputs": [
    {
     "data": {
      "text/plain": [
       "50"
      ]
     },
     "execution_count": 39,
     "metadata": {},
     "output_type": "execute_result"
    }
   ],
   "source": [
    "r"
   ]
  },
  {
   "cell_type": "code",
   "execution_count": 40,
   "id": "d8500ec1-cf3d-468b-8e97-33373bbb17e9",
   "metadata": {},
   "outputs": [],
   "source": [
    "df=pd.DataFrame(data)"
   ]
  },
  {
   "cell_type": "code",
   "execution_count": 41,
   "id": "3ce32e51-3419-43d0-8786-00bfa76a4c06",
   "metadata": {},
   "outputs": [
    {
     "data": {
      "text/html": [
       "<div>\n",
       "<style scoped>\n",
       "    .dataframe tbody tr th:only-of-type {\n",
       "        vertical-align: middle;\n",
       "    }\n",
       "\n",
       "    .dataframe tbody tr th {\n",
       "        vertical-align: top;\n",
       "    }\n",
       "\n",
       "    .dataframe thead th {\n",
       "        text-align: right;\n",
       "    }\n",
       "</style>\n",
       "<table border=\"1\" class=\"dataframe\">\n",
       "  <thead>\n",
       "    <tr style=\"text-align: right;\">\n",
       "      <th></th>\n",
       "      <th>0</th>\n",
       "    </tr>\n",
       "  </thead>\n",
       "  <tbody>\n",
       "    <tr>\n",
       "      <th>0</th>\n",
       "      <td>45</td>\n",
       "    </tr>\n",
       "    <tr>\n",
       "      <th>1</th>\n",
       "      <td>55</td>\n",
       "    </tr>\n",
       "    <tr>\n",
       "      <th>2</th>\n",
       "      <td>60</td>\n",
       "    </tr>\n",
       "    <tr>\n",
       "      <th>3</th>\n",
       "      <td>65</td>\n",
       "    </tr>\n",
       "    <tr>\n",
       "      <th>4</th>\n",
       "      <td>70</td>\n",
       "    </tr>\n",
       "    <tr>\n",
       "      <th>5</th>\n",
       "      <td>75</td>\n",
       "    </tr>\n",
       "    <tr>\n",
       "      <th>6</th>\n",
       "      <td>80</td>\n",
       "    </tr>\n",
       "    <tr>\n",
       "      <th>7</th>\n",
       "      <td>85</td>\n",
       "    </tr>\n",
       "    <tr>\n",
       "      <th>8</th>\n",
       "      <td>90</td>\n",
       "    </tr>\n",
       "    <tr>\n",
       "      <th>9</th>\n",
       "      <td>95</td>\n",
       "    </tr>\n",
       "  </tbody>\n",
       "</table>\n",
       "</div>"
      ],
      "text/plain": [
       "    0\n",
       "0  45\n",
       "1  55\n",
       "2  60\n",
       "3  65\n",
       "4  70\n",
       "5  75\n",
       "6  80\n",
       "7  85\n",
       "8  90\n",
       "9  95"
      ]
     },
     "execution_count": 41,
     "metadata": {},
     "output_type": "execute_result"
    }
   ],
   "source": [
    "df"
   ]
  },
  {
   "cell_type": "markdown",
   "id": "e0910bf8-3aeb-473a-ae83-993c72c9ae87",
   "metadata": {},
   "source": [
    "Percentile: Tells you the percentage of data values below a specific point."
   ]
  },
  {
   "cell_type": "code",
   "execution_count": 42,
   "id": "b36b6929-29c7-45c4-a1f1-f0ddc1fccaa9",
   "metadata": {},
   "outputs": [],
   "source": [
    "q1=np.percentile(data,25)"
   ]
  },
  {
   "cell_type": "code",
   "execution_count": 43,
   "id": "dc49eed1-d984-4746-9477-9559ec6233c7",
   "metadata": {},
   "outputs": [
    {
     "data": {
      "text/plain": [
       "np.float64(61.25)"
      ]
     },
     "execution_count": 43,
     "metadata": {},
     "output_type": "execute_result"
    }
   ],
   "source": [
    "q1"
   ]
  },
  {
   "cell_type": "code",
   "execution_count": 44,
   "id": "e5fe7435-517e-42b3-83f8-650eed6fb374",
   "metadata": {},
   "outputs": [],
   "source": [
    "q2=np.percentile(data,50)"
   ]
  },
  {
   "cell_type": "code",
   "execution_count": 45,
   "id": "ba201708-d8f7-441a-b8e7-fac30c1e679e",
   "metadata": {},
   "outputs": [
    {
     "data": {
      "text/plain": [
       "np.float64(72.5)"
      ]
     },
     "execution_count": 45,
     "metadata": {},
     "output_type": "execute_result"
    }
   ],
   "source": [
    "q2"
   ]
  },
  {
   "cell_type": "markdown",
   "id": "dfa4195f-c2ba-4b44-b8ef-02098d9f2d64",
   "metadata": {},
   "source": [
    "IQR Inter Quartile Range\n",
    "The interquartile range (IQR) is another measure of spread which is like the range but which is not affected by the data extremes.\n",
    "Used to remove Outliers "
   ]
  },
  {
   "cell_type": "code",
   "execution_count": 46,
   "id": "b50da0fc-6e0e-41a1-b260-1a9b9c24a689",
   "metadata": {},
   "outputs": [],
   "source": [
    "iqr=q2-q1"
   ]
  },
  {
   "cell_type": "code",
   "execution_count": 47,
   "id": "6329fde4-187c-4296-b573-0fc07d68a803",
   "metadata": {},
   "outputs": [
    {
     "data": {
      "text/plain": [
       "np.float64(11.25)"
      ]
     },
     "execution_count": 47,
     "metadata": {},
     "output_type": "execute_result"
    }
   ],
   "source": [
    "iqr"
   ]
  },
  {
   "cell_type": "raw",
   "id": "3340ad45-a707-4fe9-9804-8449bdd5710c",
   "metadata": {},
   "source": [
    "calculating IQR\n",
    "\n",
    "def fix_outliers_iqr(df):\n",
    "    num=df.select_dtypes(include='number').columns\n",
    "    for col in num:\n",
    "        Q1 = df[col].quantile(0.25)\n",
    "        Q3 = df[col].quantile(0.75)\n",
    "        IQR = Q3 - Q1\n",
    "        lower_bound = Q1 - 1.5 * IQR\n",
    "        upper_bound = Q3 + 1.5 * IQR\n",
    " Replace outliers with the respective bounds\n",
    "        df[col] = df[col].apply(lambda x: lower_bound if x < lower_bound else upper_bound if x > upper_bound else x)\n",
    "    return df"
   ]
  },
  {
   "cell_type": "markdown",
   "id": "42a7b44c-7e70-4f15-978a-87556d07fece",
   "metadata": {},
   "source": [
    "# 3.Measure of Symmetry:"
   ]
  },
  {
   "cell_type": "markdown",
   "id": "6fa95486-7a61-4151-9d02-60c0574c50b1",
   "metadata": {},
   "source": [
    "  a.)Skewness : Skewed to the left , Skewed to the Right\n",
    "      "
   ]
  },
  {
   "cell_type": "code",
   "execution_count": 55,
   "id": "fd445b82-275d-434e-8619-fb7d8abc7c67",
   "metadata": {},
   "outputs": [
    {
     "data": {
      "text/plain": [
       "0   -0.200632\n",
       "dtype: float64"
      ]
     },
     "execution_count": 55,
     "metadata": {},
     "output_type": "execute_result"
    }
   ],
   "source": [
    "df.skew()"
   ]
  },
  {
   "cell_type": "markdown",
   "id": "cbb205fd-7c1d-4564-9cc3-caf0850eadd0",
   "metadata": {},
   "source": [
    "skewness between -0.5 to +0.5 =Fairly Symmetrical "
   ]
  },
  {
   "cell_type": "markdown",
   "id": "eef38c14-7523-4c5a-ad1e-3d9049a20d7c",
   "metadata": {},
   "source": [
    "skewness is -1 and -0.5 or +1 and +0.5 =Moderately skewed"
   ]
  },
  {
   "cell_type": "markdown",
   "id": "bfeb5ccd-f242-4319-8f4d-b7d7054b1e0e",
   "metadata": {},
   "source": [
    "skewness is less than -1 or greater than 1  = Highly skewed"
   ]
  },
  {
   "cell_type": "markdown",
   "id": "cb0976f5-4952-4dbb-afce-ac7153dec705",
   "metadata": {},
   "source": [
    "b.)Kurtosis: "
   ]
  },
  {
   "cell_type": "code",
   "execution_count": 58,
   "id": "1aa4276c-b0e4-439e-8169-520149e62bd1",
   "metadata": {},
   "outputs": [
    {
     "data": {
      "text/plain": [
       "0   -0.841837\n",
       "dtype: float64"
      ]
     },
     "execution_count": 58,
     "metadata": {},
     "output_type": "execute_result"
    }
   ],
   "source": [
    "df.kurt()"
   ]
  },
  {
   "cell_type": "markdown",
   "id": "65891d44-8c7e-40a0-a71d-4ca86d48f342",
   "metadata": {},
   "source": [
    "Meso kurtosis: values between 0 and 3"
   ]
  },
  {
   "cell_type": "markdown",
   "id": "0b9e49ea-fecd-406a-b051-a5b0c07b273a",
   "metadata": {},
   "source": [
    "Lepto kurtosis: Less than 3 by value "
   ]
  },
  {
   "cell_type": "markdown",
   "id": "50cea4ef-b1e4-4ad2-aa54-6e90a4af43a6",
   "metadata": {},
   "source": [
    "platykurtosis: Values are greater than 3"
   ]
  },
  {
   "cell_type": "markdown",
   "id": "6b49cb56-968f-438c-9568-2802fa83b0e0",
   "metadata": {},
   "source": [
    "# Inferential Statistics:"
   ]
  },
  {
   "cell_type": "code",
   "execution_count": 62,
   "id": "1dfff107-a35f-4524-a1a7-c10111787576",
   "metadata": {},
   "outputs": [
    {
     "data": {
      "text/plain": [
       "array([ 1,  2,  3,  4,  5,  6,  7,  8,  9, 10, 11, 12, 13, 14, 15, 16, 17,\n",
       "       18, 19, 20, 21, 22, 23, 24, 25, 26, 27, 28, 29, 30, 31, 32, 33, 34,\n",
       "       35, 36, 37, 38, 39, 40, 41, 42, 43, 44, 45, 46, 47, 48, 49, 50, 51,\n",
       "       52, 53, 54, 55, 56, 57, 58, 59, 60, 61, 62, 63, 64, 65, 66, 67, 68,\n",
       "       69, 70, 71, 72, 73, 74, 75, 76, 77, 78, 79, 80, 81, 82, 83, 84, 85,\n",
       "       86, 87, 88, 89, 90, 91, 92, 93, 94, 95, 96, 97, 98, 99])"
      ]
     },
     "execution_count": 62,
     "metadata": {},
     "output_type": "execute_result"
    }
   ],
   "source": [
    "pop=np.arange(1,100)\n",
    "pop"
   ]
  },
  {
   "cell_type": "code",
   "execution_count": 64,
   "id": "b98f6bcf-da69-470e-8ea3-720a30d1fd90",
   "metadata": {},
   "outputs": [
    {
     "data": {
      "text/plain": [
       "array([95, 20, 63, 86, 46, 53,  1, 84, 77, 17])"
      ]
     },
     "execution_count": 64,
     "metadata": {},
     "output_type": "execute_result"
    }
   ],
   "source": [
    "sample=np.random.choice(pop,size=10,replace=False)\n",
    "sample"
   ]
  },
  {
   "cell_type": "code",
   "execution_count": 65,
   "id": "45e4b719-c57a-4914-9ca8-05d63d23b2ea",
   "metadata": {},
   "outputs": [
    {
     "name": "stdout",
     "output_type": "stream",
     "text": [
      "sample.mean() 54.2\n"
     ]
    }
   ],
   "source": [
    "print(\"sample.mean()\",sample.mean())"
   ]
  },
  {
   "cell_type": "markdown",
   "id": "9ff3f4c0-5715-4c98-8058-af29a58590ca",
   "metadata": {},
   "source": [
    "Simple sampling : Equal chance for everyone.\n",
    "\n",
    "Systematic Sampling : It is quick and easy to use but the list must not be biased . Main feature of it is Every k-th item is selected.\n",
    "\n",
    "Stratified Sampling : Sample from each subgroup , Population has important categories.\n",
    "\n",
    "Cluster :  Select whole groups , Natural groups exist, cost-saving ."
   ]
  },
  {
   "cell_type": "markdown",
   "id": "7378a981-5a5a-4eff-a941-1e7ec40dbf37",
   "metadata": {},
   "source": [
    "# hypothesis testing"
   ]
  },
  {
   "cell_type": "raw",
   "id": "c57fb1d4-bba9-42f2-93c4-dbcdaae24049",
   "metadata": {},
   "source": [
    "1.Null hypothesis -h0 eg : work from home is good \n",
    "2.Alternate hypothesis - h1 eg :work from home is not good \n",
    "p_value(critical value)<5% or >5%"
   ]
  },
  {
   "cell_type": "markdown",
   "id": "8a9a607a-1fcc-47a2-8139-a55878cdd951",
   "metadata": {},
   "source": [
    "T - test "
   ]
  },
  {
   "cell_type": "code",
   "execution_count": 67,
   "id": "e30fbf3b-d28e-4e65-be12-1a070192922c",
   "metadata": {},
   "outputs": [],
   "source": [
    "from scipy import stats"
   ]
  },
  {
   "cell_type": "code",
   "execution_count": 68,
   "id": "8971f569-9fed-46a3-8565-b89d1b31fbda",
   "metadata": {},
   "outputs": [],
   "source": [
    "np.random.seed(42)"
   ]
  },
  {
   "cell_type": "code",
   "execution_count": 69,
   "id": "6cb06364-9ff9-4e06-9382-cda72ea1b9b3",
   "metadata": {},
   "outputs": [
    {
     "data": {
      "text/plain": [
       "array([505.48357077, 502.30867849, 506.23844269, 510.61514928,\n",
       "       501.82923313, 501.82931522, 510.89606408, 506.83717365,\n",
       "       500.65262807, 505.71280022, 500.68291154, 500.67135123,\n",
       "       504.20981136, 493.43359878, 494.37541084, 500.18856235,\n",
       "       497.9358444 , 504.57123666, 498.45987962, 495.93848149,\n",
       "       510.32824384, 501.8711185 , 503.33764102, 495.87625907,\n",
       "       500.27808638, 503.55461295, 497.24503211, 504.87849009,\n",
       "       499.99680655, 501.54153125])"
      ]
     },
     "execution_count": 69,
     "metadata": {},
     "output_type": "execute_result"
    }
   ],
   "source": [
    "sample = np.random.normal(loc=503, scale=5, size=30)\n",
    "sample"
   ]
  },
  {
   "cell_type": "code",
   "execution_count": 70,
   "id": "cfeeb98f-1d3d-43ee-b9b4-ce99bd0d264d",
   "metadata": {},
   "outputs": [],
   "source": [
    "t_statistic, p_value = stats.ttest_1samp(sample, popmean=500)"
   ]
  },
  {
   "cell_type": "markdown",
   "id": "40d5ea75-84d3-4851-b66e-0efb8e0b0bbc",
   "metadata": {},
   "source": [
    "Printing the testing T- statistic value"
   ]
  },
  {
   "cell_type": "code",
   "execution_count": 71,
   "id": "dc303e9c-c11f-4fd1-befe-68e0f5890f17",
   "metadata": {},
   "outputs": [
    {
     "name": "stdout",
     "output_type": "stream",
     "text": [
      "T-statistic: 2.5064402725654054\n"
     ]
    }
   ],
   "source": [
    "print(\"T-statistic:\", t_statistic)"
   ]
  },
  {
   "cell_type": "markdown",
   "id": "50ebd880-6ef4-4d91-bbd8-e5e9fbd467b7",
   "metadata": {},
   "source": [
    "Finding the P-value"
   ]
  },
  {
   "cell_type": "code",
   "execution_count": 72,
   "id": "37ac1d59-dc6f-4289-8c70-3b06b512b753",
   "metadata": {},
   "outputs": [
    {
     "name": "stdout",
     "output_type": "stream",
     "text": [
      "P-value: 0.018054505756327662\n"
     ]
    }
   ],
   "source": [
    "print(\"P-value:\", p_value)"
   ]
  },
  {
   "cell_type": "code",
   "execution_count": 74,
   "id": "f85733f7-57b2-4455-8d48-219a0ec225e9",
   "metadata": {},
   "outputs": [],
   "source": [
    "a=.05"
   ]
  },
  {
   "cell_type": "code",
   "execution_count": 75,
   "id": "41e9122b-163e-4c24-b098-4f0a81baee73",
   "metadata": {},
   "outputs": [
    {
     "name": "stdout",
     "output_type": "stream",
     "text": [
      "work from home is good\n"
     ]
    }
   ],
   "source": [
    "#decision \n",
    "\n",
    "if p_value < a:\n",
    "    print(\"work from home is good\")\n",
    "else:\n",
    "    print(\"work from home not good.\")\n",
    "    "
   ]
  },
  {
   "cell_type": "code",
   "execution_count": 77,
   "id": "82511ed7-831b-4c95-88e3-cf7e9acdff26",
   "metadata": {},
   "outputs": [],
   "source": [
    "# Simulate a sample of 40 student scores\n",
    "\n",
    "np.random.seed(32)\n",
    "sample = np.random.normal(loc=72, scale=5, size=40)"
   ]
  },
  {
   "cell_type": "code",
   "execution_count": 79,
   "id": "8c7edb15-c1b1-434f-99e3-276b18823562",
   "metadata": {},
   "outputs": [
    {
     "data": {
      "text/plain": [
       "array([70.25552775, 76.91851717, 74.90461415, 72.3514222 , 75.88766338,\n",
       "       74.90979373, 79.35895263, 80.31590504, 70.69411439, 68.55661594,\n",
       "       68.52538369, 81.7021173 , 81.02707595, 74.28156926, 69.1259398 ,\n",
       "       72.57090252, 79.56790385, 73.7556592 , 71.55533393, 76.58477114,\n",
       "       74.52822563, 67.92364445, 73.94575476, 69.87518765, 72.19811576,\n",
       "       69.36018039, 69.4484816 , 67.55857425, 77.43812367, 75.36696132,\n",
       "       66.66341482, 78.09024992, 88.81856274, 67.83873299, 70.2982581 ,\n",
       "       62.70714228, 72.00411533, 73.75787241, 79.60754424, 68.59762931])"
      ]
     },
     "execution_count": 79,
     "metadata": {},
     "output_type": "execute_result"
    }
   ],
   "source": [
    "sample "
   ]
  },
  {
   "cell_type": "code",
   "execution_count": 80,
   "id": "ee605898-962e-4379-a196-fa0b1061df49",
   "metadata": {},
   "outputs": [],
   "source": [
    "pop_mean=70\n",
    "pop_std=5"
   ]
  },
  {
   "cell_type": "code",
   "execution_count": null,
   "id": "a2472a32-e670-487d-ba20-aa2d338f0d04",
   "metadata": {},
   "outputs": [],
   "source": [
    "Here the mean and the standard  deviation value is being found."
   ]
  },
  {
   "cell_type": "markdown",
   "id": "dc222fb8-0bf9-4c93-8f25-8b8dbfb69a99",
   "metadata": {},
   "source": [
    "# Probability"
   ]
  },
  {
   "cell_type": "markdown",
   "id": "1c4cfffd-c07f-4a06-bcf0-6be07ff19fdc",
   "metadata": {},
   "source": [
    "Experiment: Doing something and looking at the result; e.g. rolling a dice"
   ]
  },
  {
   "cell_type": "markdown",
   "id": "6110be06-3560-4155-96fb-0054ecd7a355",
   "metadata": {},
   "source": [
    "Outcome: A single possible outcome of an experiment\n",
    "\n",
    "Event: A set of one or more outcome;e.g. for a dice {1}, {2}, …, {6]  A random variable is a variable"
   ]
  },
  {
   "cell_type": "markdown",
   "id": "e4e5bff2-6fc2-4f10-b067-bb74d427486f",
   "metadata": {},
   "source": [
    " It Can be either discrete (having specific values) or continuous (any value in a continuous range)."
   ]
  },
  {
   "cell_type": "markdown",
   "id": "bce9ee3c-c5a5-46de-8f73-62083b5d2d29",
   "metadata": {},
   "source": [
    "Probability distribution (probality density function) PDF-continous function\n",
    "\n",
    "probability mass function ,PMF - discrete function "
   ]
  },
  {
   "cell_type": "markdown",
   "id": "4535e843-e666-4956-bd0f-2bf9207e0991",
   "metadata": {},
   "source": [
    "# Uniform Distribution:\n",
    "When the chances of every possible outcome is same. Ex: Rolling of Dice"
   ]
  },
  {
   "cell_type": "markdown",
   "id": "d319a753-7a35-4a62-a0cc-c266e35e658a",
   "metadata": {},
   "source": [
    "# Bernoulli distribution: \n",
    "Bernoulli distribution, Ber(p), is used to model an experiment with only two possible outcomes.\n",
    "The two outcomes are often encoded as 1 and 0. Ex:tossing a coin"
   ]
  },
  {
   "cell_type": "markdown",
   "id": "2b7c14ee-55d1-4cbf-8f0d-7fc22b766f7d",
   "metadata": {},
   "source": [
    "Binomial distribution: models the number of successes when someone draws n times with replacement. Each draw or experiment is independent, with two possible outcomes."
   ]
  },
  {
   "cell_type": "markdown",
   "id": "7f5ca976-7402-415f-9afb-f50e904ba656",
   "metadata": {},
   "source": [
    "Normal distribution, T-distribution, Chi Square Distribution and F Distribution"
   ]
  },
  {
   "cell_type": "markdown",
   "id": "38f2d5ac-ee27-4b84-8354-735205f6de7b",
   "metadata": {},
   "source": [
    "Mean = Median = Mode | Symmetry about the center | 50% of values less than the mean and 50% greater than the mean 68-95-99.7 Rule : 68% of values are within 1 standard deviation of the mean, 95% within 2and 99.7 within 3 SD"
   ]
  },
  {
   "cell_type": "markdown",
   "id": "0e3ac764-4f98-4930-a962-55cc713df7ac",
   "metadata": {},
   "source": [
    "central limit theorem - sample should be greater than 30"
   ]
  },
  {
   "cell_type": "code",
   "execution_count": 86,
   "id": "f24dfcb5-b797-45c6-8dd3-dad81358e795",
   "metadata": {},
   "outputs": [],
   "source": [
    "even = {2, 4, 6}\n",
    "greater_than_3 = {4, 5, 6}\n",
    "sample_space = set(range(1, 7))\n",
    "#Event intersections and properties\n",
    "intersection = even & greater_than_3\n",
    "union = even | greater_than_3"
   ]
  },
  {
   "cell_type": "code",
   "execution_count": 87,
   "id": "06587782-f63a-4b8f-8d26-a40f761763cb",
   "metadata": {},
   "outputs": [
    {
     "name": "stdout",
     "output_type": "stream",
     "text": [
      "Even numbers: {2, 4, 6}\n",
      "Greater than 3: {4, 5, 6}\n",
      "Intersection (A ∩ B): {4, 6}\n",
      "Union (A ∪ B): {2, 4, 5, 6}\n"
     ]
    }
   ],
   "source": [
    "print(f\"Even numbers: {even}\")\n",
    "print(f\"Greater than 3: {greater_than_3}\")\n",
    "print(f\"Intersection (A ∩ B): {intersection}\")\n",
    "print(f\"Union (A ∪ B): {union}\")"
   ]
  },
  {
   "cell_type": "code",
   "execution_count": null,
   "id": "fbce4a63-58ad-461c-9525-6c08d97fdad0",
   "metadata": {},
   "outputs": [],
   "source": []
  }
 ],
 "metadata": {
  "kernelspec": {
   "display_name": "Python 3 (ipykernel)",
   "language": "python",
   "name": "python3"
  },
  "language_info": {
   "codemirror_mode": {
    "name": "ipython",
    "version": 3
   },
   "file_extension": ".py",
   "mimetype": "text/x-python",
   "name": "python",
   "nbconvert_exporter": "python",
   "pygments_lexer": "ipython3",
   "version": "3.13.3"
  }
 },
 "nbformat": 4,
 "nbformat_minor": 5
}
